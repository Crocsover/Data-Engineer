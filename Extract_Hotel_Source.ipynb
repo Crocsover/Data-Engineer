{
 "cells": [
  {
   "cell_type": "code",
   "execution_count": 1,
   "id": "7d101792",
   "metadata": {},
   "outputs": [
    {
     "name": "stdout",
     "output_type": "stream",
     "text": [
      "                          Hotel Name                  Location\n",
      "0          Diamond Hotel Philippines        Manila Bay, Manila\n",
      "1                   The Manila Hotel        Manila Bay, Manila\n",
      "2                Sheraton Manila Bay            Malate, Manila\n",
      "3                          Hotel H2O        Manila Bay, Manila\n",
      "4                 Century Park Hotel            Malate, Manila\n",
      "5     Winford Resort & Casino Manila        Santa Cruz, Manila\n",
      "6   Ramada by Wyndham Manila Central           Binondo, Manila\n",
      "7                  Eurotel Pedro Gil            Ermita, Manila\n",
      "8                 Manila Manor Hotel            Malate, Manila\n",
      "9          Bayview Park Hotel Manila        Manila Bay, Manila\n",
      "10                    Dechmark Hotel        Santa Cruz, Manila\n",
      "11          City Garden Suites Hotel            Ermita, Manila\n",
      "12   Red Planet Manila Malate Mabini      Manila, Metro Manila\n",
      "13     Swiss-Belhotel Blulane Manila        Santa Cruz, Manila\n",
      "14               Manila Prince Hotel            Ermita, Manila\n",
      "15                     Skyloft Hotel          Sampaloc, Manila\n",
      "16                Pearl Garden Hotel        Manila Bay, Manila\n",
      "17                   Leez Inn Malate            Malate, Manila\n",
      "18         OYO 903 Tesoro Apartments            Ermita, Manila\n",
      "19                     Kysabel Hotel  San Andres Bukid, Manila\n"
     ]
    }
   ],
   "source": [
    "import requests\n",
    "from bs4 import BeautifulSoup\n",
    "import pandas as pd\n",
    "\n",
    "# URL of the webpage you want to scrape hotel names and locations from\n",
    "url = 'https://www.traveloka.com/en-ph/hotel/philippines/city/manila-10007648'  # Replace with the actual URL\n",
    "\n",
    "# Send an HTTP GET request to the URL\n",
    "response = requests.get(url)\n",
    "\n",
    "# Check if the request was successful (status code 200)\n",
    "if response.status_code == 200:\n",
    "    # Parse the HTML content of the page\n",
    "    soup = BeautifulSoup(response.text, 'html.parser')\n",
    "\n",
    "    # Find all elements that contain hotel names and locations\n",
    "    name_elements = soup.find_all('h3', {'class': 'css-4rbku5 css-901oao css-16my406 css-bfa6kz r-cwxd7f r-t1w4ow r-ubezar r-b88u0q r-rjixqe r-fdjqy7'})\n",
    "    location_elements = soup.find_all('div', {'class': 'css-901oao css-bfa6kz r-1ud240a r-t1w4ow r-1b43r93 r-majxgm r-rjixqe r-fdjqy7'})\n",
    "\n",
    "    # Lists to store extracted data\n",
    "    hotel_names = []\n",
    "    locations = []\n",
    "\n",
    "    # Loop through the elements and extract the data\n",
    "    for name_element, location_element in zip(name_elements, location_elements):\n",
    "        hotel_name = name_element.get_text(strip=True)\n",
    "        location = location_element.get_text(strip=True)\n",
    "\n",
    "        # Append the data to the respective lists\n",
    "        hotel_names.append(hotel_name)\n",
    "        locations.append(location)\n",
    "\n",
    "    # Create a DataFrame from the extracted data\n",
    "    data = {'Hotel Name': hotel_names, 'Location': locations}\n",
    "    df = pd.DataFrame(data)\n",
    "\n",
    "    # Print the DataFrame with hotel names and locations\n",
    "    print(df)\n",
    "\n",
    "else:\n",
    "    print(\"Failed to retrieve the webpage.\")\n",
    "\n",
    "# Close the HTTP connection\n",
    "response.close()"
   ]
  },
  {
   "cell_type": "code",
   "execution_count": null,
   "id": "a163be66",
   "metadata": {},
   "outputs": [],
   "source": []
  }
 ],
 "metadata": {
  "kernelspec": {
   "display_name": "Python 3 (ipykernel)",
   "language": "python",
   "name": "python3"
  },
  "language_info": {
   "codemirror_mode": {
    "name": "ipython",
    "version": 3
   },
   "file_extension": ".py",
   "mimetype": "text/x-python",
   "name": "python",
   "nbconvert_exporter": "python",
   "pygments_lexer": "ipython3",
   "version": "3.11.4"
  }
 },
 "nbformat": 4,
 "nbformat_minor": 5
}
